{
 "cells": [
  {
   "cell_type": "code",
   "execution_count": 2,
   "metadata": {},
   "outputs": [],
   "source": [
    "import pandas as pd\n",
    "import random"
   ]
  },
  {
   "cell_type": "code",
   "execution_count": 12,
   "metadata": {},
   "outputs": [
    {
     "name": "stdout",
     "output_type": "stream",
     "text": [
      "data/NISTDB4-F.csv: 1650 items\n",
      "data/NISTDB4-F.csv: sampling 165 items\n",
      "data/NISTDB4-F.csv: dataframe has 2015 variables\n",
      "\n",
      "data/NISTDB4-S.csv: 1650 items\n",
      "data/NISTDB4-S.csv: sampling 165 items\n",
      "data/NISTDB4-S.csv: dataframe has 2015 variables\n",
      "\n",
      "data/SFinGe_Default.csv: 10000 items\n",
      "data/SFinGe_Default.csv: sampling 1000 items\n",
      "data/SFinGe_Default.csv: dataframe has 1527 variables\n",
      "\n",
      "data/SFinGe_HQNoPert.csv: 10000 items\n",
      "data/SFinGe_HQNoPert.csv: sampling 1000 items\n",
      "data/SFinGe_HQNoPert.csv: dataframe has 1527 variables\n",
      "\n",
      "data/SFinGe_VQAndPert.csv: 10000 items\n",
      "data/SFinGe_VQAndPert.csv: sampling 1000 items\n",
      "data/SFinGe_VQAndPert.csv: dataframe has 1527 variables\n",
      "\n"
     ]
    }
   ],
   "source": [
    "# https://nikgrozev.com/2015/06/16/fast-and-simple-sampling-in-pandas-when-loading-data-from-files/\n",
    "\n",
    "nist_f_path = 'data/NISTDB4-F.csv'\n",
    "nist_s_path = 'data/NISTDB4-S.csv'\n",
    "sfin_d_path = 'data/SFinGe_Default.csv'\n",
    "sfin_h_path = 'data/SFinGe_HQNoPert.csv'\n",
    "sfin_v_path = 'data/SFinGe_VQAndPert.csv'\n",
    "\n",
    "def sample(f, n=10):\n",
    "    # Count the lines\n",
    "    num_lines = sum(1 for l in open(f))\n",
    "    print(f'{f}: {num_lines} items')\n",
    "\n",
    "    # Sample size - in this case ~10%\n",
    "    size = int(num_lines/n)\n",
    "    print(f'{f}: sampling {size} items')\n",
    "\n",
    "    # The row indices to skip - make sure 0 is not included to keep the header!\n",
    "    # Not sure if seed really works\n",
    "    random.seed(1)\n",
    "    skip_idx = random.sample(range(1, num_lines), num_lines - size, )\n",
    "\n",
    "    # Read the data\n",
    "    df = pd.read_csv(f, skiprows=skip_idx, header=None)\n",
    "\n",
    "    print(f'{f}: dataframe has {df.shape[1]} variables\\n')\n",
    "\n",
    "    return df\n",
    "\n",
    "\n",
    "nist_f = sample(nist_f_path)\n",
    "nist_s = sample(nist_s_path)\n",
    "sfin_d = sample(sfin_d_path)\n",
    "sfin_h = sample(sfin_h_path)\n",
    "sfin_v = sample(sfin_v_path)\n"
   ]
  },
  {
   "cell_type": "code",
   "execution_count": null,
   "metadata": {},
   "outputs": [],
   "source": []
  }
 ],
 "metadata": {
  "interpreter": {
   "hash": "cdda72482b74b36a8cd983d5e1bcef53bc8833d37b4bc186fc16d6768393ee16"
  },
  "kernelspec": {
   "display_name": "Python 3.8.8 ('venv': venv)",
   "language": "python",
   "name": "python3"
  },
  "language_info": {
   "codemirror_mode": {
    "name": "ipython",
    "version": 3
   },
   "file_extension": ".py",
   "mimetype": "text/x-python",
   "name": "python",
   "nbconvert_exporter": "python",
   "pygments_lexer": "ipython3",
   "version": "3.8.8"
  },
  "orig_nbformat": 4
 },
 "nbformat": 4,
 "nbformat_minor": 2
}
