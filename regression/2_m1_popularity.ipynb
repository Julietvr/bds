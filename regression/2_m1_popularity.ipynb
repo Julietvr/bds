{
 "cells": [
  {
   "cell_type": "markdown",
   "metadata": {},
   "source": [
    "## M1 popularity\n",
    "\n",
    "On fold 1 some first exploratory experiments are performed.\n",
    "Evaluation: https://vitalflux.com/interpreting-f-statistics-in-linear-regression-formula-examples"
   ]
  },
  {
   "cell_type": "code",
   "execution_count": 1,
   "metadata": {},
   "outputs": [],
   "source": [
    "import pandas as pd\n",
    "import numpy as np\n",
    "\n",
    "from scipy.stats import pearsonr\n",
    "from scipy import stats \n",
    "\n",
    "from sklearn.preprocessing import StandardScaler\n",
    "from sklearn.decomposition import PCA\n",
    "from sklearn.decomposition import KernelPCA\n",
    "\n",
    "from sklearn.linear_model import LinearRegression\n",
    "\n",
    "import matplotlib.pyplot as plt\n",
    "from matplotlib import colors\n",
    "import seaborn as sns\n",
    "import plotly.express as px\n",
    "\n",
    "sns.set_theme()"
   ]
  },
  {
   "cell_type": "code",
   "execution_count": 2,
   "metadata": {},
   "outputs": [],
   "source": [
    "class Feats():\n",
    "    \"\"\"\n",
    "    Each feature has a first name, optionally a second name, a statistic and a number.\n",
    "    This class allows to group feautures according to these aspects or combinations of these aspects.\n",
    "    Each method produces a list of feature names or a list of lists of feature names.\n",
    "    \"\"\"\n",
    "\n",
    "    def __init__(self, csv):\n",
    "        self.fts = pd.read_csv(csv, dtype={'n':\"string\"})\n",
    "        self.fts = self.fts.fillna('')\n",
    "\n",
    "    def format(self, select):\n",
    "        return select.apply(lambda x: '_'.join(x).replace('__', '_'), axis=1).tolist()\n",
    "\n",
    "    def all(self):\n",
    "        select = self.fts.copy()\n",
    "        return self.format(select)\n",
    "\n",
    "    def first(self):\n",
    "        select = self.fts.copy()\n",
    "        select = select.loc[select['n']=='01']\n",
    "        return self.format(select)\n",
    "\n",
    "    def mfcc(self):\n",
    "        select = self.fts.copy()\n",
    "        select = select.loc[select['name1']=='mfcc']\n",
    "        return self.format(select)\n",
    "\n",
    "    def tonnetz(self):\n",
    "        select = self.fts.copy()\n",
    "        select = select.loc[select['name1']=='tonnetz']\n",
    "        return self.format(select)\n",
    "\n",
    "    def min(self):\n",
    "        select = self.fts.copy()\n",
    "        select = select.loc[select['stat']=='min']\n",
    "        return self.format(select)\n",
    "    \n",
    "    def max(self):\n",
    "        select = self.fts.copy()\n",
    "        select = select.loc[select['stat']=='max']\n",
    "        return self.format(select)\n",
    "\n",
    "    def median(self):\n",
    "        select = self.fts.copy()\n",
    "        select = select.loc[select['stat']=='median']\n",
    "        return self.format(select)\n",
    "\n",
    "    def mean(self):\n",
    "        select = self.fts.copy()\n",
    "        select = select.loc[select['stat']=='mean']\n",
    "        return self.format(select)\n",
    "    \n",
    "    def std(self):\n",
    "        select = self.fts.copy()\n",
    "        select = select.loc[select['stat']=='std']\n",
    "        return self.format(select)\n",
    "\n",
    "    def skew(self):\n",
    "        select = self.fts.copy()\n",
    "        select = select.loc[select['stat']=='skew']\n",
    "        return self.format(select)\n",
    "\n",
    "    def kurtosis(self):\n",
    "        select = self.fts.copy()\n",
    "        select = select.loc[select['stat']=='kurtosis']\n",
    "        return self.format(select)\n",
    "\n",
    "    def per_nns(self):\n",
    "        \"\"\"\n",
    "        List of lists per name1, name2, stat, per name1, name2.\n",
    "        \"\"\"\n",
    "        select = self.fts.copy()\n",
    "        select = [[self.format(grp2) for idx2, grp2 in grp.groupby(by=['stat'], sort=False)] for idx, grp in select.groupby(by=['name1', 'name2'])]\n",
    "        return select\n",
    "    \n",
    "    def per_sn(self):\n",
    "        \"\"\"\n",
    "        List of lists per stat, n. \n",
    "        \"\"\"\n",
    "        select = self.fts.copy()\n",
    "        select = [[self.format(grp2) for idx2, grp2 in grp.groupby(by=['n'], sort=False)] for idx, grp in select.groupby(by=['stat'], sort=False)]\n",
    "        return select\n",
    "\n",
    "fts = Feats('features.csv')"
   ]
  },
  {
   "cell_type": "code",
   "execution_count": 3,
   "metadata": {},
   "outputs": [],
   "source": [
    "# Read data\n",
    "df = pd.read_csv('data/fold/f1_train.csv',  parse_dates=['release'])\n",
    "df = df.drop(columns=['release'])"
   ]
  },
  {
   "cell_type": "markdown",
   "metadata": {},
   "source": [
    "#### Preprocessing"
   ]
  },
  {
   "cell_type": "code",
   "execution_count": 4,
   "metadata": {},
   "outputs": [
    {
     "name": "stdout",
     "output_type": "stream",
     "text": [
      "m1: Dropped 0 na entries and 1 zero entries of 68207, 68206 entries left.\n"
     ]
    }
   ],
   "source": [
    "n_orig = df.shape[0]\n",
    "\n",
    "# Drop na values\n",
    "n_na = df['popularity'].isna().sum()\n",
    "df = df.dropna(subset=['popularity'])\n",
    "\n",
    "# Drop zero values\n",
    "n_zero =df.loc[df['popularity']==0].shape[0]\n",
    "df = df.loc[df['popularity']>0]\n",
    "\n",
    "print(f'm1: Dropped {n_na} na entries and {n_zero} zero entries of {n_orig}, {df.shape[0]} entries left.')\n",
    "\n",
    "y_before = df['popularity']\n",
    "y = stats.boxcox(y_before)[0]\n",
    "\n",
    "X = df.drop(columns=['popularity'])\n",
    "\n",
    "scaler = StandardScaler().fit(X)\n",
    "X = scaler.transform(X)\n",
    "X = pd.DataFrame(X, columns=fts.all())"
   ]
  },
  {
   "cell_type": "code",
   "execution_count": null,
   "metadata": {},
   "outputs": [],
   "source": []
  }
 ],
 "metadata": {
  "interpreter": {
   "hash": "cdda72482b74b36a8cd983d5e1bcef53bc8833d37b4bc186fc16d6768393ee16"
  },
  "kernelspec": {
   "display_name": "Python 3.8.8 ('venv': venv)",
   "language": "python",
   "name": "python3"
  },
  "language_info": {
   "codemirror_mode": {
    "name": "ipython",
    "version": 3
   },
   "file_extension": ".py",
   "mimetype": "text/x-python",
   "name": "python",
   "nbconvert_exporter": "python",
   "pygments_lexer": "ipython3",
   "version": "3.8.8"
  },
  "orig_nbformat": 4
 },
 "nbformat": 4,
 "nbformat_minor": 2
}
