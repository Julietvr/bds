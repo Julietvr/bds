{
 "cells": [
  {
   "cell_type": "code",
   "execution_count": null,
   "metadata": {},
   "outputs": [],
   "source": [
    "# Create train and test set and save csv's.\n",
    "# Takes 1,5 min\n",
    "\n",
    "# import pandas as pd\n",
    "# from sklearn.model_selection import train_test_split\n",
    "\n",
    "# df_music = pd.read_csv('data/music_data.csv')\n",
    "# df_meta = pd.read_csv('data/metadata.csv')\n",
    "\n",
    "# train, test = train_test_split(df_music, test_size=0.2, random_state=1)\n",
    "\n",
    "# train.to_csv('data/music_data_train.csv')\n",
    "# test.to_csv('data/music_data_test.csv')\n",
    "# df_meta.iloc[train.index].to_csv('data/metadata_train.csv', index=False)\n",
    "# df_meta.iloc[test.index].to_csv('data/metadata_test.csv', index=False)\n",
    "\n",
    "# train test sampling with respect to balancing cats??\n"
   ]
  }
 ],
 "metadata": {
  "language_info": {
   "name": "python"
  },
  "orig_nbformat": 4
 },
 "nbformat": 4,
 "nbformat_minor": 2
}
