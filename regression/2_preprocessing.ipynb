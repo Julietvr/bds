{
 "cells": [
  {
   "cell_type": "markdown",
   "metadata": {},
   "source": [
    "## 2. Preprocessing\n",
    "\n",
    "All data is preprocessed according to the following steps.\n",
    "1. Data is split in a training set of 80% of the data and a test set of 20% of the data.\n",
    "2. Missing feature data is imputed using the mean. Missing target data is inferred from other available metadata.\n",
    "3. Outliers are removed, data is normalized and centered. Target Y1 is binned per 10 listenings and target Y2 is binned per year.\n",
    "\n",
    "Next to feature set f1, which contains all features, two more feature sets are created with PCA dimensionality reduction. For feature set f2 PCA is applied per column name group, and for feature set f3 PCA is applied on the total of features."
   ]
  },
  {
   "cell_type": "markdown",
   "metadata": {},
   "source": [
    "### Setup"
   ]
  },
  {
   "cell_type": "code",
   "execution_count": null,
   "metadata": {},
   "outputs": [],
   "source": [
    "import pandas as pd\n",
    "import numpy as np\n",
    "from sklearn.decomposition import PCA\n",
    "\n",
    "import matplotlib.pyplot as plt\n",
    "import seaborn as sns\n",
    "import plotly.express as px\n",
    "sns.set_theme()"
   ]
  },
  {
   "cell_type": "code",
   "execution_count": null,
   "metadata": {},
   "outputs": [],
   "source": [
    "class Feature_reader():\n",
    "    \"\"\"\n",
    "    Each feature has a first name, optionally a second name, a statistic and a number.\n",
    "    This class allows to group feautures according to these aspects or combinations of these aspects.\n",
    "    Each method produces a list of feature names or a list of lists of feature names.\n",
    "    \"\"\"\n",
    "\n",
    "    def __init__(self, csv):\n",
    "        self.fts = pd.read_csv(csv, dtype={'n':\"string\"})\n",
    "        self.fts = self.fts.fillna('')\n",
    "\n",
    "    def format(self, select):\n",
    "        return select.apply(lambda x: '_'.join(x).replace('__', '_'), axis=1).tolist()\n",
    "\n",
    "    def all(self):\n",
    "        select = self.fts.copy()\n",
    "        return self.format(select)\n",
    "\n",
    "    def first(self):\n",
    "        select = self.fts.copy()\n",
    "        select = select.loc[select['n']=='01']\n",
    "        return self.format(select)\n",
    "\n",
    "    def kurtosis(self):\n",
    "        select = self.fts.copy()\n",
    "        select = select.loc[select['stat']=='kurtosis']\n",
    "        return self.format(select)\n",
    "\n",
    "    def mean(self):\n",
    "        select = self.fts.copy()\n",
    "        select = select.loc[select['stat']=='mean']\n",
    "        return self.format(select)\n",
    "\n",
    "    def per_nns(self):\n",
    "        \"\"\"\n",
    "        List of lists per name1, name2, stat, per name1, name2.\n",
    "        \"\"\"\n",
    "        select = self.fts.copy()\n",
    "        select = [[self.format(grp2) for idx2, grp2 in grp.groupby(by=['stat'])] for idx, grp in select.groupby(by=['name1', 'name2'])]\n",
    "        return select\n",
    "\n",
    "fts = Feature_reader('features.csv')"
   ]
  },
  {
   "cell_type": "markdown",
   "metadata": {},
   "source": [
    "### 2.1 Train-test split"
   ]
  },
  {
   "cell_type": "code",
   "execution_count": null,
   "metadata": {},
   "outputs": [],
   "source": [
    "# Create train and test set and save csv's.\n",
    "# Takes 1,5 min\n",
    "\n",
    "# import pandas as pd\n",
    "# from sklearn.model_selection import train_test_split\n",
    "\n",
    "# df_music = pd.read_csv('data/music_data.csv')\n",
    "# df_meta = pd.read_csv('data/metadata.csv')\n",
    "\n",
    "# train, test = train_test_split(df_music, test_size=0.2, random_state=1)\n",
    "\n",
    "# train.to_csv('data/data_train.csv')\n",
    "# test.to_csv('data/data_test.csv')\n",
    "# df_meta.iloc[train.index].to_csv('data/metadata_train.csv', index=False)\n",
    "# df_meta.iloc[test.index].to_csv('data/metadata_test.csv', index=False)\n",
    "\n",
    "# train test sampling with respect to balancing cats??\n"
   ]
  },
  {
   "cell_type": "markdown",
   "metadata": {},
   "source": [
    "### 2.2 Missing data"
   ]
  },
  {
   "cell_type": "code",
   "execution_count": null,
   "metadata": {},
   "outputs": [],
   "source": []
  },
  {
   "cell_type": "markdown",
   "metadata": {},
   "source": [
    "### 2.3 Outliers"
   ]
  },
  {
   "cell_type": "code",
   "execution_count": null,
   "metadata": {},
   "outputs": [],
   "source": []
  },
  {
   "cell_type": "markdown",
   "metadata": {},
   "source": [
    "### 2.4 Feature sets"
   ]
  },
  {
   "cell_type": "code",
   "execution_count": null,
   "metadata": {},
   "outputs": [],
   "source": []
  }
 ],
 "metadata": {
  "language_info": {
   "name": "python"
  },
  "orig_nbformat": 4
 },
 "nbformat": 4,
 "nbformat_minor": 2
}
