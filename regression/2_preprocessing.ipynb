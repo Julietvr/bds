{
 "cells": [
  {
   "cell_type": "markdown",
   "metadata": {},
   "source": [
    "## 2. Preprocessing\n",
    "\n",
    "All data is preprocessed according to the following steps.\n",
    "1. Data is split in a training set of 80% of the data and a test set of 20% of the data.\n",
    "2. Missing feature data is imputed using the mean. Missing target data is inferred from other available metadata.\n",
    "3. Outliers are removed, data is normalized and centered. Target Y1 is binned per 10 listenings and target Y2 is binned per year.\n",
    "\n",
    "Next to feature set f1, which contains all features, two more feature sets are created with PCA dimensionality reduction. For feature set f2 PCA is applied per column name group, and for feature set f3 PCA is applied on the total of features."
   ]
  },
  {
   "cell_type": "markdown",
   "metadata": {},
   "source": [
    "### Setup"
   ]
  },
  {
   "cell_type": "code",
   "execution_count": 1,
   "metadata": {},
   "outputs": [],
   "source": [
    "import pandas as pd\n",
    "import numpy as np\n",
    "from sklearn.decomposition import PCA\n",
    "\n",
    "import matplotlib.pyplot as plt\n",
    "import seaborn as sns\n",
    "import plotly.express as px\n",
    "sns.set_theme()"
   ]
  },
  {
   "cell_type": "code",
   "execution_count": 2,
   "metadata": {},
   "outputs": [],
   "source": [
    "class Feature_reader():\n",
    "    \"\"\"\n",
    "    Each feature has a first name, optionally a second name, a statistic and a number.\n",
    "    This class allows to group feautures according to these aspects or combinations of these aspects.\n",
    "    Each method produces a list of feature names or a list of lists of feature names.\n",
    "    \"\"\"\n",
    "\n",
    "    def __init__(self, csv):\n",
    "        self.fts = pd.read_csv(csv, dtype={'n':\"string\"})\n",
    "        self.fts = self.fts.fillna('')\n",
    "\n",
    "    def format(self, select):\n",
    "        return select.apply(lambda x: '_'.join(x).replace('__', '_'), axis=1).tolist()\n",
    "\n",
    "    def all(self):\n",
    "        select = self.fts.copy()\n",
    "        return self.format(select)\n",
    "\n",
    "    def first(self):\n",
    "        select = self.fts.copy()\n",
    "        select = select.loc[select['n']=='01']\n",
    "        return self.format(select)\n",
    "\n",
    "    def min(self):\n",
    "        select = self.fts.copy()\n",
    "        select = select.loc[select['stat']=='min']\n",
    "        return self.format(select)\n",
    "    \n",
    "    def max(self):\n",
    "        select = self.fts.copy()\n",
    "        select = select.loc[select['stat']=='max']\n",
    "        return self.format(select)\n",
    "\n",
    "    def median(self):\n",
    "        select = self.fts.copy()\n",
    "        select = select.loc[select['stat']=='median']\n",
    "        return self.format(select)\n",
    "\n",
    "    def mean(self):\n",
    "        select = self.fts.copy()\n",
    "        select = select.loc[select['stat']=='mean']\n",
    "        return self.format(select)\n",
    "    \n",
    "    def std(self):\n",
    "        select = self.fts.copy()\n",
    "        select = select.loc[select['stat']=='std']\n",
    "        return self.format(select)\n",
    "\n",
    "    def skew(self):\n",
    "        select = self.fts.copy()\n",
    "        select = select.loc[select['stat']=='skew']\n",
    "        return self.format(select)\n",
    "\n",
    "    def kurtosis(self):\n",
    "        select = self.fts.copy()\n",
    "        select = select.loc[select['stat']=='kurtosis']\n",
    "        return self.format(select)\n",
    "\n",
    "    def per_nns(self):\n",
    "        \"\"\"\n",
    "        List of lists per name1, name2, stat, per name1, name2.\n",
    "        \"\"\"\n",
    "        select = self.fts.copy()\n",
    "        select = [[self.format(grp2) for idx2, grp2 in grp.groupby(by=['stat'], sort=False)] for idx, grp in select.groupby(by=['name1', 'name2'])]\n",
    "        return select\n",
    "    \n",
    "    def per_sn(self):\n",
    "        \"\"\"\n",
    "        List of lists per stat, n. \n",
    "        \"\"\"\n",
    "        select = self.fts.copy()\n",
    "        select = [[self.format(grp2) for idx2, grp2 in grp.groupby(by=['n'], sort=False)] for idx, grp in select.groupby(by=['stat'], sort=False)]\n",
    "        return select\n",
    "\n",
    "fts = Feature_reader('features.csv')"
   ]
  },
  {
   "cell_type": "markdown",
   "metadata": {},
   "source": [
    "### 2.1 Train-test split"
   ]
  },
  {
   "cell_type": "code",
   "execution_count": null,
   "metadata": {},
   "outputs": [],
   "source": [
    "# Create train and test set and save csv's.\n",
    "# Takes 1,5 min\n",
    "\n",
    "# import pandas as pd\n",
    "# from sklearn.model_selection import train_test_split\n",
    "\n",
    "# df_music = pd.read_csv('data/music_data.csv')\n",
    "# df_meta = pd.read_csv('data/metadata.csv')\n",
    "\n",
    "# train, test = train_test_split(df_music, test_size=0.2, random_state=1)\n",
    "\n",
    "# train.to_csv('data/data_train.csv')\n",
    "# test.to_csv('data/data_test.csv')\n",
    "# df_meta.iloc[train.index].to_csv('data/metadata_train.csv', index=False)\n",
    "# df_meta.iloc[test.index].to_csv('data/metadata_test.csv', index=False)\n",
    "\n",
    "# train test sampling with respect to balancing cats??\n"
   ]
  },
  {
   "cell_type": "code",
   "execution_count": 52,
   "metadata": {},
   "outputs": [],
   "source": [
    "# Read data\n",
    "df = pd.read_csv('data/data_train.csv')\n",
    "df_meta = pd.read_csv('data/metadata_train.csv', parse_dates=['album_date_created', 'album_date_released', 'track_date_created']) #There are more datetimes\n",
    "\n",
    "df.drop(df.columns[[0,1]],axis=1,inplace=True)\n",
    "df['popularity'] = df_meta['track_listens']\n",
    "df['release'] = df_meta['album_date_released']"
   ]
  },
  {
   "cell_type": "markdown",
   "metadata": {},
   "source": [
    "### 2.2 Missing data"
   ]
  },
  {
   "cell_type": "code",
   "execution_count": 5,
   "metadata": {},
   "outputs": [
    {
     "data": {
      "text/html": [
       "<div>\n",
       "<style scoped>\n",
       "    .dataframe tbody tr th:only-of-type {\n",
       "        vertical-align: middle;\n",
       "    }\n",
       "\n",
       "    .dataframe tbody tr th {\n",
       "        vertical-align: top;\n",
       "    }\n",
       "\n",
       "    .dataframe thead th {\n",
       "        text-align: right;\n",
       "    }\n",
       "</style>\n",
       "<table border=\"1\" class=\"dataframe\">\n",
       "  <thead>\n",
       "    <tr style=\"text-align: right;\">\n",
       "      <th></th>\n",
       "      <th>album_date_created</th>\n",
       "      <th>album_date_released</th>\n",
       "    </tr>\n",
       "  </thead>\n",
       "  <tbody>\n",
       "    <tr>\n",
       "      <th>0</th>\n",
       "      <td>2010-09-04 15:47:48</td>\n",
       "      <td>2010-09-04</td>\n",
       "    </tr>\n",
       "    <tr>\n",
       "      <th>1</th>\n",
       "      <td>2014-11-13 18:40:58</td>\n",
       "      <td>2014-11-13</td>\n",
       "    </tr>\n",
       "    <tr>\n",
       "      <th>2</th>\n",
       "      <td>2013-11-19 12:14:39</td>\n",
       "      <td>2008-03-29</td>\n",
       "    </tr>\n",
       "    <tr>\n",
       "      <th>3</th>\n",
       "      <td>2011-01-03 16:16:30</td>\n",
       "      <td>2011-01-01</td>\n",
       "    </tr>\n",
       "    <tr>\n",
       "      <th>4</th>\n",
       "      <td>NaT</td>\n",
       "      <td>NaT</td>\n",
       "    </tr>\n",
       "    <tr>\n",
       "      <th>...</th>\n",
       "      <td>...</td>\n",
       "      <td>...</td>\n",
       "    </tr>\n",
       "    <tr>\n",
       "      <th>85254</th>\n",
       "      <td>2012-11-30 14:26:41</td>\n",
       "      <td>2012-12-01</td>\n",
       "    </tr>\n",
       "    <tr>\n",
       "      <th>85255</th>\n",
       "      <td>2016-09-18 11:23:03</td>\n",
       "      <td>NaT</td>\n",
       "    </tr>\n",
       "    <tr>\n",
       "      <th>85256</th>\n",
       "      <td>2009-03-12 08:13:10</td>\n",
       "      <td>NaT</td>\n",
       "    </tr>\n",
       "    <tr>\n",
       "      <th>85257</th>\n",
       "      <td>2015-03-18 04:51:41</td>\n",
       "      <td>2015-03-18</td>\n",
       "    </tr>\n",
       "    <tr>\n",
       "      <th>85258</th>\n",
       "      <td>2016-09-27 03:41:25</td>\n",
       "      <td>2011-01-29</td>\n",
       "    </tr>\n",
       "  </tbody>\n",
       "</table>\n",
       "<p>85259 rows × 2 columns</p>\n",
       "</div>"
      ],
      "text/plain": [
       "       album_date_created album_date_released\n",
       "0     2010-09-04 15:47:48          2010-09-04\n",
       "1     2014-11-13 18:40:58          2014-11-13\n",
       "2     2013-11-19 12:14:39          2008-03-29\n",
       "3     2011-01-03 16:16:30          2011-01-01\n",
       "4                     NaT                 NaT\n",
       "...                   ...                 ...\n",
       "85254 2012-11-30 14:26:41          2012-12-01\n",
       "85255 2016-09-18 11:23:03                 NaT\n",
       "85256 2009-03-12 08:13:10                 NaT\n",
       "85257 2015-03-18 04:51:41          2015-03-18\n",
       "85258 2016-09-27 03:41:25          2011-01-29\n",
       "\n",
       "[85259 rows x 2 columns]"
      ]
     },
     "execution_count": 5,
     "metadata": {},
     "output_type": "execute_result"
    }
   ],
   "source": [
    "df_meta[['album_date_created', 'album_date_released']]"
   ]
  },
  {
   "cell_type": "code",
   "execution_count": 26,
   "metadata": {},
   "outputs": [
    {
     "name": "stdout",
     "output_type": "stream",
     "text": [
      "               | created != na | created = na \n",
      "released != na |     56344     |      0    \n",
      "released = na  |     26075     |      2840    \n",
      "\n"
     ]
    }
   ],
   "source": [
    "na = df_meta[['album_date_created', 'album_date_released']].isna()\n",
    "\n",
    "ff = na.loc[(na['album_date_released']==False) & (na['album_date_created']==False)].shape[0]\n",
    "ft = na.loc[(na['album_date_released']==False) & (na['album_date_created']==True)].shape[0]\n",
    "tf = na.loc[(na['album_date_released']==True) & (na['album_date_created']==False)].shape[0]\n",
    "tt = na.loc[(na['album_date_released']==True) & (na['album_date_created']==True)].shape[0]\n",
    "\n",
    "print(f'\\\n",
    "               | created != na | created = na \\n\\\n",
    "released != na |     {ff}     |      {ft}    \\n\\\n",
    "released = na  |     {tf}     |      {tt}    \\n\\\n",
    "')"
   ]
  },
  {
   "cell_type": "code",
   "execution_count": 64,
   "metadata": {},
   "outputs": [
    {
     "name": "stdout",
     "output_type": "stream",
     "text": [
      "112.0\n"
     ]
    },
    {
     "data": {
      "image/png": "[encoded data removed]",
      "text/plain": [
       "<Figure size 720x360 with 1 Axes>"
      ]
     },
     "metadata": {},
     "output_type": "display_data"
    }
   ],
   "source": [
    "df_year = df_meta[['album_date_created', 'album_date_released', 'track_date_created']].copy()\n",
    "df_year['created'] = df_year['album_date_created'].dt.year\n",
    "df_year['released'] = df_year['album_date_released'].dt.year\n",
    "df_year['track'] = df_year['track_date_created'].dt.year\n",
    "df_year['diff_days'] = df_year['album_date_created'] - df_year['album_date_released']\n",
    "df_year['diff_year'] = df_year['created'] - df_year['released']\n",
    "\n",
    "# print(df_year.loc[df_year['diff_year']==0].shape[0])\n",
    "# print(df_year.loc[df_year['diff_year']==1].shape[0])\n",
    "# print(df_year.loc[df_year['diff_year']>1].shape[0])\n",
    "\n",
    "# print(df_year.loc[df_year['diff_year']>1].sum())\n",
    "\n",
    "fig, axs = plt.subplots(ncols=1, figsize=(10,5))\n",
    "\n",
    "sns.histplot(data=df_year, x=\"diff_year\", kde=True);\n",
    "\n",
    "# ax1.set(title=\"Distribution release with density estimate\")\n",
    "\n",
    "fig;"
   ]
  },
  {
   "cell_type": "code",
   "execution_count": 42,
   "metadata": {},
   "outputs": [
    {
     "name": "stdout",
     "output_type": "stream",
     "text": [
      "Index(['track_id', 'album_comments', 'album_date_created',\n",
      "       'album_date_released', 'album_engineer', 'album_favorites', 'album_id',\n",
      "       'album_information', 'album_listens', 'album_producer', 'album_tags',\n",
      "       'album_title', 'album_tracks', 'album_type', 'artist_active_year_begin',\n",
      "       'artist_active_year_end', 'artist_associated_labels', 'artist_bio',\n",
      "       'artist_comments', 'artist_date_created', 'artist_favorites',\n",
      "       'artist_id', 'artist_latitude', 'artist_location', 'artist_longitude',\n",
      "       'artist_members', 'artist_name', 'artist_related_projects',\n",
      "       'artist_tags', 'artist_website', 'artist_wikipedia_page', 'set_split',\n",
      "       'set_subset', 'track_bit_rate', 'track_comments', 'track_composer',\n",
      "       'track_date_created', 'track_date_recorded', 'track_duration',\n",
      "       'track_favorites', 'track_genre_top', 'track_genres',\n",
      "       'track_genres_all', 'track_information', 'track_interest',\n",
      "       'track_language_code', 'track_license', 'track_listens',\n",
      "       'track_lyricist', 'track_number', 'track_publisher', 'track_tags',\n",
      "       'track_title'],\n",
      "      dtype='object')\n"
     ]
    }
   ],
   "source": [
    "print(df_meta.columns)"
   ]
  },
  {
   "cell_type": "code",
   "execution_count": 50,
   "metadata": {},
   "outputs": [
    {
     "name": "stdout",
     "output_type": "stream",
     "text": [
      "track_id                        0\n",
      "album_comments                  0\n",
      "album_date_created           2840\n",
      "album_date_released         28915\n",
      "album_engineer              73028\n",
      "album_favorites                 0\n",
      "album_id                        0\n",
      "album_information           18719\n",
      "album_listens                   0\n",
      "album_producer              70823\n",
      "album_tags                      0\n",
      "album_title                   818\n",
      "album_tracks                    0\n",
      "album_type                   5227\n",
      "artist_active_year_begin    67141\n",
      "artist_active_year_end      81017\n",
      "artist_associated_labels    73897\n",
      "artist_bio                  28407\n",
      "artist_comments                 0\n",
      "artist_date_created           694\n",
      "artist_favorites                0\n",
      "artist_id                       0\n",
      "artist_latitude             49667\n",
      "artist_location             29159\n",
      "artist_longitude            49667\n",
      "artist_members              47870\n",
      "artist_name                     0\n",
      "artist_related_projects     74806\n",
      "artist_tags                     0\n",
      "artist_website              21966\n",
      "artist_wikipedia_page       80815\n",
      "set_split                       0\n",
      "set_subset                      0\n",
      "track_bit_rate                  0\n",
      "track_comments                  0\n",
      "track_composer              82308\n",
      "track_date_created              0\n",
      "track_date_recorded         80333\n",
      "track_duration                  0\n",
      "track_favorites                 0\n",
      "track_genre_top             45443\n",
      "track_genres                    0\n",
      "track_genres_all                0\n",
      "track_information           83384\n",
      "track_interest                  0\n",
      "track_language_code         73213\n",
      "track_license                  74\n",
      "track_listens                   0\n",
      "track_lyricist              85004\n",
      "track_number                    0\n",
      "track_publisher             84252\n",
      "track_tags                      0\n",
      "track_title                     1\n",
      "dtype: int64\n"
     ]
    }
   ],
   "source": [
    "print(df_meta.isna().sum())"
   ]
  },
  {
   "cell_type": "markdown",
   "metadata": {},
   "source": [
    "### 2.3 Outliers"
   ]
  },
  {
   "cell_type": "code",
   "execution_count": 68,
   "metadata": {},
   "outputs": [
    {
     "data": {
      "image/png": "[encoded data removed]",
      "text/plain": [
       "<Figure size 432x288 with 1 Axes>"
      ]
     },
     "metadata": {},
     "output_type": "display_data"
    }
   ],
   "source": [
    "import numpy as np\n",
    "import matplotlib.pyplot as plt\n",
    "from sklearn.neighbors import LocalOutlierFactor\n",
    "\n",
    "np.random.seed(42)\n",
    "\n",
    "# # Generate train data\n",
    "# X_inliers = 0.3 * np.random.randn(100, 2)\n",
    "# X_inliers = np.r_[X_inliers + 2, X_inliers - 2]\n",
    "\n",
    "# # Generate some outliers\n",
    "# X_outliers = np.random.uniform(low=-4, high=4, size=(20, 2))\n",
    "# X = np.r_[X_inliers, X_outliers]\n",
    "\n",
    "X = df[fts.all()].to_numpy()\n",
    "\n",
    "# n_outliers = len(X_outliers)\n",
    "# ground_truth = np.ones(len(X), dtype=int)\n",
    "# ground_truth[-n_outliers:] = -1\n",
    "\n",
    "# fit the model for outlier detection (default)\n",
    "# clf = LocalOutlierFactor(n_neighbors=20, contamination=0.1)\n",
    "# use fit_predict to compute the predicted labels of the training samples\n",
    "# (when LOF is used for outlier detection, the estimator has no predict,\n",
    "# decision_function and score_samples methods).\n",
    "# y_pred = clf.fit_predict(X)\n",
    "# n_errors = (y_pred != ground_truth).sum()\n",
    "\n",
    "# lof = LocalOutlierFactor()\n",
    "# yhat = lof.fit_predict(X_train)\n",
    "\n",
    "clf = LocalOutlierFactor(n_neighbors=20, contamination=0.1)\n",
    "y_pred = clf.fit_predict(X)\n",
    "X_scores = clf.negative_outlier_factor_\n",
    "\n",
    "plt.title(\"Local Outlier Factor (LOF)\")\n",
    "plt.scatter(X[:, 0], X[:, 1], color=\"k\", s=3.0, label=\"Data points\")\n",
    "# plot circles with radius proportional to the outlier scores\n",
    "radius = (X_scores.max() - X_scores) / (X_scores.max() - X_scores.min())\n",
    "plt.scatter(\n",
    "    X[:, 0],\n",
    "    X[:, 1],\n",
    "    s=1000 * radius,\n",
    "    edgecolors=\"r\",\n",
    "    facecolors=\"none\",\n",
    "    label=\"Outlier scores\",\n",
    ")\n",
    "plt.axis(\"tight\")\n",
    "plt.xlim((-5, 5))\n",
    "plt.ylim((-5, 5))\n",
    "legend = plt.legend(loc=\"upper left\")\n",
    "legend.legendHandles[0]._sizes = [10]\n",
    "legend.legendHandles[1]._sizes = [20]\n",
    "plt.show()"
   ]
  },
  {
   "cell_type": "code",
   "execution_count": 79,
   "metadata": {},
   "outputs": [
    {
     "name": "stdout",
     "output_type": "stream",
     "text": [
      "                lof\n",
      "count  8.525900e+04\n",
      "mean  -1.055496e+09\n",
      "std    5.792742e+10\n",
      "min   -4.177909e+12\n",
      "25%   -1.121533e+00\n",
      "50%   -1.052359e+00\n",
      "75%   -1.013872e+00\n",
      "max   -9.421950e-01\n"
     ]
    },
    {
     "data": {
      "image/png": "[encoded data removed]",
      "text/plain": [
       "<Figure size 432x288 with 1 Axes>"
      ]
     },
     "metadata": {},
     "output_type": "display_data"
    }
   ],
   "source": [
    "lofs = pd.DataFrame({'lof': clf.negative_outlier_factor_})\n",
    "\n",
    "print(lofs.describe())\n",
    "\n",
    "sns.boxplot(data=lofs, orient='h');\n"
   ]
  },
  {
   "cell_type": "markdown",
   "metadata": {},
   "source": [
    "### 2.4 Feature sets"
   ]
  },
  {
   "cell_type": "code",
   "execution_count": null,
   "metadata": {},
   "outputs": [],
   "source": []
  }
 ],
 "metadata": {
  "interpreter": {
   "hash": "cdda72482b74b36a8cd983d5e1bcef53bc8833d37b4bc186fc16d6768393ee16"
  },
  "kernelspec": {
   "display_name": "Python 3.8.8 ('venv': venv)",
   "language": "python",
   "name": "python3"
  },
  "language_info": {
   "codemirror_mode": {
    "name": "ipython",
    "version": 3
   },
   "file_extension": ".py",
   "mimetype": "text/x-python",
   "name": "python",
   "nbconvert_exporter": "python",
   "pygments_lexer": "ipython3",
   "version": "3.8.8"
  },
  "orig_nbformat": 4
 },
 "nbformat": 4,
 "nbformat_minor": 2
}
