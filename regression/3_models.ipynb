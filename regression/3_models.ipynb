{
 "cells": [
  {
   "cell_type": "markdown",
   "metadata": {},
   "source": [
    "## 3. Models and evaluation\n",
    "\n",
    "For both `m1` and `m2`, the same types of models are fit on each feature set. A simple linear regression will function as a point of reference. Furthermore, experiments with polynomial regression, tree regression and singular value regression are performed. Gridsearch is applied to tune hyperparameters. In case training turns out to be too computationally expensive, DASK-ML is implemented.\n",
    "Each model is assesed using 5-fold cross validation. Measures of least squared error, sum squared error and mean squared error are produced, as well as accuracy and AUROC."
   ]
  },
  {
   "cell_type": "markdown",
   "metadata": {},
   "source": [
    "Lasso model in sklearn: https://scikit-learn.org/stable/auto_examples/linear_model/plot_lasso_model_selection.html\n",
    "Mogelijkheid om code in sklearn pipelines te zetten"
   ]
  },
  {
   "cell_type": "markdown",
   "metadata": {},
   "source": [
    "### Setup"
   ]
  },
  {
   "cell_type": "code",
   "execution_count": 2,
   "metadata": {},
   "outputs": [],
   "source": [
    "import os\n",
    "from datetime import datetime\n",
    "\n",
    "import pandas as pd\n",
    "import numpy as np\n",
    "\n",
    "from sklearn.model_selection import cross_validate\n",
    "from sklearn.pipeline import make_pipeline\n",
    "from sklearn.linear_model import LinearRegression\n",
    "from sklearn.preprocessing import PolynomialFeatures\n",
    "\n",
    "import matplotlib.pyplot as plt\n",
    "import seaborn as sns\n",
    "sns.set_theme()"
   ]
  },
  {
   "cell_type": "code",
   "execution_count": 9,
   "metadata": {},
   "outputs": [],
   "source": [
    "def frmt(scores):\n",
    "    r2 = np.abs(scores['test_r2'].mean())\n",
    "    mse = np.abs(scores['test_neg_mean_squared_error'].mean())\n",
    "    rmse = np.abs(scores['test_neg_root_mean_squared_error'].mean())\n",
    "    mar = np.abs(scores['test_neg_mean_absolute_error'].mean())\n",
    "\n",
    "    return {'r2':r2, 'mse':mse, 'rmse':rmse, 'mar':mar}"
   ]
  },
  {
   "cell_type": "code",
   "execution_count": 10,
   "metadata": {},
   "outputs": [],
   "source": [
    "def log(model, fts, estimator, results):\n",
    "    timestamp = datetime.now().strftime(\"%Y-%m-%d %H:%M:%S\")\n",
    "    \n",
    "    line = f\"{model},{timestamp},{fts},{estimator},{results['r2']},{results['mar']},{results['mse']},{results['rmse']}\\n\"\n",
    "\n",
    "    with open('log.csv', 'a') as log:\n",
    "        log.write(line)"
   ]
  },
  {
   "cell_type": "code",
   "execution_count": 11,
   "metadata": {},
   "outputs": [],
   "source": [
    "y1 = pd.read_csv(f'featsets/y1.csv', header=None)\n",
    "y2 = pd.read_csv(f'featsets/y2.csv', header=None)"
   ]
  },
  {
   "cell_type": "markdown",
   "metadata": {},
   "source": [
    "https://towardsdatascience.com/mse-and-bias-variance-decomposition-77449dd2ff55\n",
    "https://machinelearningmastery.com/regression-metrics-for-machine-learning/\n",
    "https://scikit-learn.org/stable/modules/model_evaluation.html#regression-metrics"
   ]
  },
  {
   "cell_type": "markdown",
   "metadata": {},
   "source": [
    "### 3.1 Linear regression "
   ]
  },
  {
   "cell_type": "code",
   "execution_count": null,
   "metadata": {},
   "outputs": [],
   "source": [
    "measures = ['r2', 'neg_mean_squared_error', 'neg_root_mean_squared_error', 'neg_mean_absolute_error']"
   ]
  },
  {
   "cell_type": "markdown",
   "metadata": {},
   "source": [
    "#### m1"
   ]
  },
  {
   "cell_type": "code",
   "execution_count": 47,
   "metadata": {},
   "outputs": [],
   "source": [
    "fts = '00_first_try'\n",
    "X = pd.read_csv(f'featsets/X1/{fts}.csv', delimiter=',', header=None)\n",
    "\n",
    "model = LinearRegression()\n",
    "scores = cross_validate(model, X, y1, cv=5, scoring=measures)\n",
    "\n",
    "log('m1', fts, 'linear_regression', frmt(scores))"
   ]
  },
  {
   "cell_type": "markdown",
   "metadata": {},
   "source": [
    "#### m2"
   ]
  },
  {
   "cell_type": "code",
   "execution_count": 76,
   "metadata": {},
   "outputs": [],
   "source": [
    "fts = '00_first_try'\n",
    "X = pd.read_csv(f'featsets/X2/{fts}.csv', delimiter=',', header=None)\n",
    "\n",
    "model = LinearRegression()\n",
    "scores = cross_validate(model, X, y2, cv=5, scoring=measures)\n",
    "\n",
    "log('m2', fts, 'linear_regression', frmt(scores))"
   ]
  },
  {
   "cell_type": "markdown",
   "metadata": {},
   "source": [
    "### 3.2 Polynomial regression"
   ]
  },
  {
   "cell_type": "markdown",
   "metadata": {},
   "source": [
    "> Use dask https://ml.dask.org/preprocessing.html\n",
    "https://scikit-learn.org/stable/modules/generated/sklearn.preprocessing.PolynomialFeatures.html#sklearn.preprocessing.PolynomialFeatures"
   ]
  },
  {
   "cell_type": "markdown",
   "metadata": {},
   "source": [
    "#### m1"
   ]
  },
  {
   "cell_type": "code",
   "execution_count": null,
   "metadata": {},
   "outputs": [],
   "source": [
    "# fts = '00_first_try'\n",
    "# X = pd.read_csv(f'featsets/X1/{fts}.csv', delimiter=',', header=None)\n",
    "\n",
    "# model = make_pipeline(PolynomialFeatures(degree=2), LinearRegression(fit_intercept = False))\n",
    "# scores = cross_validate(model, X, y1, cv=5, scoring=measures)\n",
    "\n",
    "# log('m1', fts, 'polinomial_regression', frmt(scores))"
   ]
  },
  {
   "cell_type": "markdown",
   "metadata": {},
   "source": [
    "#### m2"
   ]
  },
  {
   "cell_type": "code",
   "execution_count": null,
   "metadata": {},
   "outputs": [],
   "source": []
  },
  {
   "cell_type": "markdown",
   "metadata": {},
   "source": [
    "### 3.3 Ridge\n",
    "https://scikit-learn.org/stable/modules/generated/sklearn.linear_model.Ridge.html#sklearn.linear_model.Ridge"
   ]
  },
  {
   "cell_type": "code",
   "execution_count": 12,
   "metadata": {},
   "outputs": [],
   "source": [
    "from sklearn.linear_model import Ridge\n",
    "\n",
    "measures = ['r2', 'neg_mean_squared_error', 'neg_root_mean_squared_error', 'neg_mean_absolute_error']"
   ]
  },
  {
   "cell_type": "markdown",
   "metadata": {},
   "source": [
    "#### m1"
   ]
  },
  {
   "cell_type": "code",
   "execution_count": 13,
   "metadata": {},
   "outputs": [],
   "source": [
    "fts = '00_first_try'\n",
    "X = pd.read_csv(f'featsets/X1/{fts}.csv', delimiter=',', header=None)\n",
    "\n",
    "model = Ridge(alpha=1.0)\n",
    "scores = cross_validate(model, X, y1, cv=5, scoring=measures)\n",
    "\n",
    "log('m1', fts, 'ridge_regression', frmt(scores))"
   ]
  },
  {
   "cell_type": "markdown",
   "metadata": {},
   "source": [
    "#### m2"
   ]
  },
  {
   "cell_type": "code",
   "execution_count": null,
   "metadata": {},
   "outputs": [],
   "source": []
  },
  {
   "cell_type": "markdown",
   "metadata": {},
   "source": [
    "### 3.4 Lasso\n",
    "\n",
    "https://scikit-learn.org/stable/modules/generated/sklearn.linear_model.Lasso.html#sklearn.linear_model.Lasso\n",
    "https://scikit-learn.org/stable/modules/generated/sklearn.linear_model.LassoLarsCV.html#sklearn.linear_model.LassoLarsCV"
   ]
  },
  {
   "cell_type": "code",
   "execution_count": 15,
   "metadata": {},
   "outputs": [],
   "source": [
    "from sklearn.linear_model import Lasso\n",
    "#  Objective did not converge. You might want to increase the number of iterations, check the scale of the features or consider increasing regularisation. Duality gap: 1.939e+12, tolerance: 4.214e+08\n",
    "# https://github.com/dask/dask-ml/issues/101 "
   ]
  },
  {
   "cell_type": "markdown",
   "metadata": {},
   "source": [
    "#### m1"
   ]
  },
  {
   "cell_type": "code",
   "execution_count": 16,
   "metadata": {},
   "outputs": [
    {
     "name": "stderr",
     "output_type": "stream",
     "text": [
      "/Users/juliet/Documents/UGENT/2021-2022/big_data/practicals/venv/lib/python3.8/site-packages/sklearn/linear_model/_coordinate_descent.py:647: ConvergenceWarning: Objective did not converge. You might want to increase the number of iterations, check the scale of the features or consider increasing regularisation. Duality gap: 1.939e+12, tolerance: 4.214e+08\n",
      "  model = cd_fast.enet_coordinate_descent(\n",
      "/Users/juliet/Documents/UGENT/2021-2022/big_data/practicals/venv/lib/python3.8/site-packages/sklearn/linear_model/_coordinate_descent.py:647: ConvergenceWarning: Objective did not converge. You might want to increase the number of iterations, check the scale of the features or consider increasing regularisation. Duality gap: 1.913e+12, tolerance: 4.287e+08\n",
      "  model = cd_fast.enet_coordinate_descent(\n",
      "/Users/juliet/Documents/UGENT/2021-2022/big_data/practicals/venv/lib/python3.8/site-packages/sklearn/linear_model/_coordinate_descent.py:647: ConvergenceWarning: Objective did not converge. You might want to increase the number of iterations, check the scale of the features or consider increasing regularisation. Duality gap: 1.952e+12, tolerance: 4.392e+08\n",
      "  model = cd_fast.enet_coordinate_descent(\n",
      "/Users/juliet/Documents/UGENT/2021-2022/big_data/practicals/venv/lib/python3.8/site-packages/sklearn/linear_model/_coordinate_descent.py:647: ConvergenceWarning: Objective did not converge. You might want to increase the number of iterations, check the scale of the features or consider increasing regularisation. Duality gap: 1.973e+12, tolerance: 4.282e+08\n",
      "  model = cd_fast.enet_coordinate_descent(\n",
      "/Users/juliet/Documents/UGENT/2021-2022/big_data/practicals/venv/lib/python3.8/site-packages/sklearn/linear_model/_coordinate_descent.py:647: ConvergenceWarning: Objective did not converge. You might want to increase the number of iterations, check the scale of the features or consider increasing regularisation. Duality gap: 2.108e+12, tolerance: 4.593e+08\n",
      "  model = cd_fast.enet_coordinate_descent(\n"
     ]
    }
   ],
   "source": [
    "fts = '00_first_try'\n",
    "X = pd.read_csv(f'featsets/X1/{fts}.csv', delimiter=',', header=None)\n",
    "\n",
    "model = Lasso(alpha=1.0)\n",
    "scores = cross_validate(model, X, y1, cv=5, scoring=measures)\n",
    "\n",
    "log('m1', fts, 'lasso', frmt(scores))"
   ]
  },
  {
   "cell_type": "markdown",
   "metadata": {},
   "source": [
    "### 3.5 Tree regression"
   ]
  },
  {
   "cell_type": "markdown",
   "metadata": {},
   "source": [
    "https://scikit-learn.org/stable/modules/generated/sklearn.tree.DecisionTreeRegressor.html\n",
    "https://scikit-learn.org/stable/modules/generated/sklearn.tree.ExtraTreeRegressor.html#sklearn.tree.ExtraTreeRegressor\n",
    "https://george-jen.gitbook.io/data-science-and-apache-spark/decision-tree-regression"
   ]
  },
  {
   "cell_type": "code",
   "execution_count": 17,
   "metadata": {},
   "outputs": [],
   "source": [
    "from sklearn.tree import DecisionTreeRegressor"
   ]
  },
  {
   "cell_type": "markdown",
   "metadata": {},
   "source": [
    "#### m1"
   ]
  },
  {
   "cell_type": "code",
   "execution_count": null,
   "metadata": {},
   "outputs": [],
   "source": [
    "fts = '00_first_try'\n",
    "X = pd.read_csv(f'featsets/X1/{fts}.csv', delimiter=',', header=None)\n"
   ]
  },
  {
   "cell_type": "code",
   "execution_count": 18,
   "metadata": {},
   "outputs": [],
   "source": [
    "model = DecisionTreeRegressor(random_state=0)\n",
    "scores = cross_validate(model, X, y1, cv=5, scoring=measures)\n",
    "\n",
    "log('m1', fts, 'tree_regression', frmt(scores))"
   ]
  },
  {
   "cell_type": "markdown",
   "metadata": {},
   "source": [
    "#### m2"
   ]
  },
  {
   "cell_type": "code",
   "execution_count": null,
   "metadata": {},
   "outputs": [],
   "source": []
  }
 ],
 "metadata": {
  "interpreter": {
   "hash": "cdda72482b74b36a8cd983d5e1bcef53bc8833d37b4bc186fc16d6768393ee16"
  },
  "kernelspec": {
   "display_name": "Python 3.8.8 ('venv': venv)",
   "language": "python",
   "name": "python3"
  },
  "language_info": {
   "codemirror_mode": {
    "name": "ipython",
    "version": 3
   },
   "file_extension": ".py",
   "mimetype": "text/x-python",
   "name": "python",
   "nbconvert_exporter": "python",
   "pygments_lexer": "ipython3",
   "version": "3.8.8"
  },
  "orig_nbformat": 4
 },
 "nbformat": 4,
 "nbformat_minor": 2
}
